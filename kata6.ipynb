{
 "cells": [
  {
   "cell_type": "markdown",
   "metadata": {},
   "source": [
    "Ejercicio1: Crear listas y usar listas de python"
   ]
  },
  {
   "cell_type": "code",
   "execution_count": 4,
   "metadata": {},
   "outputs": [
    {
     "name": "stdout",
     "output_type": "stream",
     "text": [
      "actualmete 8 planetas\n",
      "pluton es el ultimo, un planeta enano\n"
     ]
    }
   ],
   "source": [
    "planetas = ['mercurio','venus','tierra','marte','jupiter','saturbo','urano','neptuno']\n",
    "print('actualmete', len(planetas),'planetas')\n",
    "planetas.append('pluton')\n",
    "print(planetas[-1],'es el ultimo, un planeta enano')"
   ]
  },
  {
   "cell_type": "markdown",
   "metadata": {},
   "source": [
    "Ejercicio2: trabajo con datos de una lista"
   ]
  },
  {
   "cell_type": "code",
   "execution_count": 8,
   "metadata": {},
   "outputs": [
    {
     "name": "stdout",
     "output_type": "stream",
     "text": [
      "aqui estan los palnetas mas cerca de la: tierra\n",
      "['mercurio', 'venus']\n",
      "aqui estan los palnetas mas lejos de la: tierra\n",
      "['marte', 'jupiter', 'saturbo', 'urano', 'neptuno']\n"
     ]
    }
   ],
   "source": [
    "#lista de los planetas\n",
    "planetas = ['mercurio','venus','tierra','marte','jupiter','saturbo','urano','neptuno']\n",
    "Elegirplaneta = input('ingresa el nobre de algun planeta')\n",
    "lista = planetas.index(Elegirplaneta)\n",
    "#planetas mas cercanos \n",
    "print('aqui estan los palnetas mas cerca de la: ' + Elegirplaneta)\n",
    "print(planetas[0:lista])\n",
    "#los planetas mas lejanosl\n",
    "print('aqui estan los palnetas mas lejos de la: ' + Elegirplaneta)\n",
    "print(planetas[lista + 1:])"
   ]
  }
 ],
 "metadata": {
  "interpreter": {
   "hash": "789b80776c0bdbfdcf1c0f12343079204403089099a02b7042b003e79d14ffb5"
  },
  "kernelspec": {
   "display_name": "Python 3.10.2 64-bit",
   "language": "python",
   "name": "python3"
  },
  "language_info": {
   "codemirror_mode": {
    "name": "ipython",
    "version": 3
   },
   "file_extension": ".py",
   "mimetype": "text/x-python",
   "name": "python",
   "nbconvert_exporter": "python",
   "pygments_lexer": "ipython3",
   "version": "3.10.2"
  },
  "orig_nbformat": 4
 },
 "nbformat": 4,
 "nbformat_minor": 2
}
