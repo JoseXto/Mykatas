{
 "cells": [
  {
   "cell_type": "markdown",
   "metadata": {},
   "source": [
    "Ejercicio1: Creacion de diccionarios"
   ]
  },
  {
   "cell_type": "code",
   "execution_count": 4,
   "metadata": {},
   "outputs": [
    {
     "name": "stdout",
     "output_type": "stream",
     "text": [
      "marte tiene 2 lunas\n",
      "marte su circunferencia polar es 6752\n",
      "marte su circunferencia ecuatorial es 6792\n"
     ]
    }
   ],
   "source": [
    "planet ={\n",
    "    'nombre': 'marte',\n",
    "    'lunas': 2\n",
    "}\n",
    "#nombre del planta y sus lunas\n",
    "print(f'{planet[\"nombre\"]} tiene {planet[\"lunas\"]} lunas')\n",
    "#Circunferencia con los datos \n",
    "planet['circunferencia (km)'] = {\n",
    "    'polar': 6752,\n",
    "    'equatorial': 6792\n",
    "}\n",
    "print(f'{planet[\"nombre\"]} su circunferencia polar es {planet[\"circunferencia (km)\"][\"polar\"]}')\n",
    "print(f'{planet[\"nombre\"]} su circunferencia ecuatorial es {planet[\"circunferencia (km)\"][\"equatorial\"]}')"
   ]
  },
  {
   "cell_type": "markdown",
   "metadata": {},
   "source": [
    "Ejercicio2: programacion dinamica con diccionarios"
   ]
  },
  {
   "cell_type": "code",
   "execution_count": 7,
   "metadata": {},
   "outputs": [
    {
     "name": "stdout",
     "output_type": "stream",
     "text": [
      "17.833333333333332\n"
     ]
    }
   ],
   "source": [
    "#planetas y sus lunas\n",
    "Planetaslunas = {\n",
    "    'mercurio': 0,\n",
    "    'venus': 0,\n",
    "    'tierra': 1,\n",
    "    'marte': 2,\n",
    "    'jupiter': 79,\n",
    "    'saturno': 82,\n",
    "    'urano': 27,\n",
    "    'neptuno': 14,\n",
    "    'pluton': 5,\n",
    "    'haumea': 2,\n",
    "    'makemake': 1,\n",
    "    'eris': 1\n",
    "}\n",
    "lunas = Planetaslunas.values()\n",
    "planetas = len(Planetaslunas.keys())\n",
    "lunasTotales = 0\n",
    "for luna in lunas:\n",
    "    lunasTotales = lunasTotales + luna\n",
    "promedio = lunasTotales / planetas\n",
    "print(promedio)"
   ]
  }
 ],
 "metadata": {
  "interpreter": {
   "hash": "789b80776c0bdbfdcf1c0f12343079204403089099a02b7042b003e79d14ffb5"
  },
  "kernelspec": {
   "display_name": "Python 3.10.2 64-bit",
   "language": "python",
   "name": "python3"
  },
  "language_info": {
   "codemirror_mode": {
    "name": "ipython",
    "version": 3
   },
   "file_extension": ".py",
   "mimetype": "text/x-python",
   "name": "python",
   "nbconvert_exporter": "python",
   "pygments_lexer": "ipython3",
   "version": "3.10.2"
  },
  "orig_nbformat": 4
 },
 "nbformat": 4,
 "nbformat_minor": 2
}
